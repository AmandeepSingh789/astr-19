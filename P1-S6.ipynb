{
  "metadata": {
    "language_info": {
      "codemirror_mode": {
        "name": "python",
        "version": 3
      },
      "file_extension": ".py",
      "mimetype": "text/x-python",
      "name": "python",
      "nbconvert_exporter": "python",
      "pygments_lexer": "ipython3",
      "version": "3.8"
    },
    "kernelspec": {
      "name": "python",
      "display_name": "Pyolite",
      "language": "python"
    }
  },
  "nbformat_minor": 4,
  "nbformat": 4,
  "cells": [
    {
      "cell_type": "code",
      "source": "#returns the sin value for the input\n\nimport numpy as np\ndef sinfunc(x):\n    return np.sin(x)\n\n",
      "metadata": {},
      "execution_count": null,
      "outputs": []
    },
    {
      "cell_type": "code",
      "source": "#returns the cos value for the input\n\ndef cosfunc(x):\n    return np.cos(x)\n    ",
      "metadata": {},
      "execution_count": null,
      "outputs": []
    },
    {
      "cell_type": "code",
      "source": "# evaluates the values for x, sin x and cos x for a thousand values of x between 0 and 2pi using \n# the functions defined above\ndef evaluate():\n    \n    x = np.linspace(0,2*np.pi,1000)\n    sinx = sinfunc(x)\n    cosx = cosfunc(x)\n    for i in range(len(x)):\n        print(f\"{x[i]}\\t{sinx[i]}\\t{cosx[i]}\")\n    \nevaluate()",
      "metadata": {},
      "execution_count": null,
      "outputs": []
    },
    {
      "cell_type": "code",
      "source": "# evaluates the values for x, sin x and cos x for 10 values of x between 0 and 2pi\n# using the numpy function\ndef table():\n    \n    x = np.linspace(0,2*np.pi,10)\n    sinx = np.sin(x)\n    cosx = np.cos(x)\n    for i in range(len(x)):\n        print(f\"{x[i]}\\t{sinx[i]}\\t{cosx[i]}\")\n    \ntable()",
      "metadata": {},
      "execution_count": null,
      "outputs": []
    }
  ]
}